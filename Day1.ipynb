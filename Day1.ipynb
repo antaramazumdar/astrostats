{
 "cells": [
  {
   "cell_type": "markdown",
   "id": "5825077b",
   "metadata": {},
   "source": [
    "# AstroStats Day 1 Classwork"
   ]
  },
  {
   "cell_type": "markdown",
   "id": "ee245b67",
   "metadata": {},
   "source": [
    "### Importing Pre-reqs"
   ]
  },
  {
   "cell_type": "code",
   "execution_count": 11,
   "id": "c9415a65",
   "metadata": {},
   "outputs": [],
   "source": [
    "import numpy as np\n",
    "import matplotlib.pyplot as plt"
   ]
  },
  {
   "cell_type": "markdown",
   "id": "606014b5",
   "metadata": {},
   "source": [
    "### Data"
   ]
  },
  {
   "cell_type": "code",
   "execution_count": 3,
   "id": "2f523be9",
   "metadata": {},
   "outputs": [],
   "source": [
    "number_yellow = [9,12,7,5,10,9,7,5,7,9,10,10,5,6,6,7,10,12,6,9,12,9,9,7,12,10,12,6,6,6,6,9]\n",
    "number_red = [7,7,9,11,9,7,6,11,7,7,5,5,8,6,7,11,5,12,6,5,10,6,9,12,12,6,7,8,11,8,4,9]\n",
    "number_green = [12,14,10,8,8,11,9,11,10,21,10,10,16,18,15,11,8,13,13,15,9,9,12,10,7,9,13,13,12,15,14,11]\n",
    "number_orange = [14,10,12,15,14,10,13,13,11,7,12,13,12,8,11,12,12,7,9,13,8,16,12,13,10,12,12,11,9,13,15,15]\n",
    "number_brown = [6,4,5,3,6,5,3,3,6,3,3,10,3,8,14,6,5,6,7,4,5,5,8,5,5,5,4,4,3,5,6,4]\n",
    "number_blue = [8,10,12,13,10,15,18,11,14,11,14,8,12,10,4,9,17,5,13,10,11,10,7,11,10,15,9,14,14,9,12,8]\n",
    "number_total = [56,57,55,55,57,57,56,54,55,58,54,56,56,56,57,56,57,55,54,56,55,55,57,53,56,57,57,56,55,56,57,56]"
   ]
  },
  {
   "cell_type": "markdown",
   "id": "bd17f54b",
   "metadata": {},
   "source": [
    "### Calculating the mean"
   ]
  },
  {
   "cell_type": "code",
   "execution_count": 4,
   "id": "a0583632",
   "metadata": {},
   "outputs": [],
   "source": [
    "mean_yellow = np.mean(number_yellow)\n",
    "mean_red = np.mean(number_red)\n",
    "mean_green = np.mean(number_green)\n",
    "mean_orange = np.mean(number_orange)\n",
    "mean_brown = np.mean(number_brown)\n",
    "mean_blue = np.mean(number_blue)\n",
    "mean_total = np.mean(number_total)"
   ]
  },
  {
   "cell_type": "markdown",
   "id": "9014626d",
   "metadata": {},
   "source": [
    "To display the mean number of M&Ms of each color with a reasonable number of significant figures-"
   ]
  },
  {
   "cell_type": "code",
   "execution_count": 5,
   "id": "3aec6aec",
   "metadata": {},
   "outputs": [
    {
     "name": "stdout",
     "output_type": "stream",
     "text": [
      "Mean, red M&Ms: 7.91\n",
      "Mean, yellow M&Ms: 8.28\n",
      "Mean, green M&Ms: 11.78\n",
      "Mean, orange M&Ms: 11.69\n",
      "Mean, brown M&Ms: 5.28\n",
      "Mean, blue M&Ms: 11.06\n"
     ]
    }
   ],
   "source": [
    "print('Mean, red M&Ms: %.2f' % mean_red)\n",
    "print('Mean, yellow M&Ms: %.2f' % mean_yellow)\n",
    "print('Mean, green M&Ms: %.2f' % mean_green)\n",
    "print('Mean, orange M&Ms: %.2f' % mean_orange)\n",
    "print('Mean, brown M&Ms: %.2f' % mean_brown)\n",
    "print('Mean, blue M&Ms: %.2f' % mean_blue)"
   ]
  },
  {
   "cell_type": "markdown",
   "id": "66c1d580",
   "metadata": {},
   "source": [
    "### Calculating the standard deviation"
   ]
  },
  {
   "cell_type": "code",
   "execution_count": 7,
   "id": "21e15bbb",
   "metadata": {},
   "outputs": [],
   "source": [
    "stdv_yellow = np.std(number_yellow)\n",
    "stdv_red = np.std(number_red)\n",
    "stdv_green = np.std(number_green)\n",
    "stdv_orange = np.std(number_orange)\n",
    "stdv_brown = np.std(number_brown)\n",
    "stdv_blue = np.std(number_blue)\n",
    "stdv_total = np.std(number_total)"
   ]
  },
  {
   "cell_type": "markdown",
   "id": "a0b5c8ba",
   "metadata": {},
   "source": [
    "Displaying the standard deviations with a reasonable number of significant figures-"
   ]
  },
  {
   "cell_type": "code",
   "execution_count": 8,
   "id": "13d4abe8",
   "metadata": {},
   "outputs": [
    {
     "name": "stdout",
     "output_type": "stream",
     "text": [
      "Standard Deviation, red M&Ms: 2.31\n",
      "Standard Deviation, yellow M&Ms: 2.27\n",
      "Standard Deviation, green M&Ms: 3.08\n",
      "Standard Deviation, orange M&Ms: 2.30\n",
      "Standard Deviation, brown M&Ms: 2.27\n",
      "Standard Deviation, blue M&Ms: 3.11\n"
     ]
    }
   ],
   "source": [
    "print('Standard Deviation, red M&Ms: %.2f' % stdv_red)\n",
    "print('Standard Deviation, yellow M&Ms: %.2f' % stdv_yellow)\n",
    "print('Standard Deviation, green M&Ms: %.2f' % stdv_green)\n",
    "print('Standard Deviation, orange M&Ms: %.2f' % stdv_orange)\n",
    "print('Standard Deviation, brown M&Ms: %.2f' % stdv_brown)\n",
    "print('Standard Deviation, blue M&Ms: %.2f' % stdv_blue)"
   ]
  },
  {
   "cell_type": "markdown",
   "id": "ff7dcef0",
   "metadata": {},
   "source": [
    "### Data Questions"
   ]
  },
  {
   "cell_type": "markdown",
   "id": "2d4327b3",
   "metadata": {},
   "source": [
    "To 1σ confidence, does Hershey make the same number of yellow, red, and green M&Ms? In other words, are the experimental means for each color within one standard deviation of each other?\n",
    "\n",
    "Answer - The experimental means of Yellow and Red are within 1 standard deviation of each other. Green is outside of the standard deviations of both Yellow and Red."
   ]
  },
  {
   "cell_type": "markdown",
   "id": "ef5efe9f",
   "metadata": {},
   "source": [
    "### Plotting the numbers"
   ]
  },
  {
   "cell_type": "code",
   "execution_count": 16,
   "id": "56560ff1",
   "metadata": {},
   "outputs": [
    {
     "data": {
      "text/plain": [
       "<ErrorbarContainer object of 3 artists>"
      ]
     },
     "execution_count": 16,
     "metadata": {},
     "output_type": "execute_result"
    },
    {
     "data": {
      "image/png": "[encoded data removed]",
      "text/plain": [
       "<Figure size 640x480 with 1 Axes>"
      ]
     },
     "metadata": {},
     "output_type": "display_data"
    }
   ],
   "source": [
    "plt.figure() \n",
    "plt.ylabel(\"Number of M&Ms\") \n",
    "plt.xticks([])\n",
    "\n",
    "plt.errorbar(0, mean_yellow, yerr=stdv_yellow,fmt='--o',color='yellow')\n",
    "plt.errorbar(1, mean_red, yerr=stdv_red, fmt='--o',color='red')\n",
    "plt.errorbar(2, mean_green, yerr=stdv_green,fmt='--o',color='green')\n",
    "plt.errorbar(3, mean_orange, yerr=stdv_orange,fmt='--o',color='orange')\n",
    "plt.errorbar(4, mean_brown, yerr=stdv_brown, fmt='--o',color='brown')\n",
    "plt.errorbar(5, mean_blue, yerr=stdv_blue,fmt='--o',color='blue')"
   ]
  }
 ],
 "metadata": {
  "kernelspec": {
   "display_name": "base",
   "language": "python",
   "name": "python3"
  },
  "language_info": {
   "codemirror_mode": {
    "name": "ipython",
    "version": 3
   },
   "file_extension": ".py",
   "mimetype": "text/x-python",
   "name": "python",
   "nbconvert_exporter": "python",
   "pygments_lexer": "ipython3",
   "version": "3.12.7"
  }
 },
 "nbformat": 4,
 "nbformat_minor": 5
}
