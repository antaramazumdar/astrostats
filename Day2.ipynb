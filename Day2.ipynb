{
  "cells": [
    {
      "cell_type": "markdown",
      "id": "a4f92c62-73d0-4ed6-b5a0-77b58d1a4079",
      "metadata": {
        "id": "a4f92c62-73d0-4ed6-b5a0-77b58d1a4079"
      },
      "source": [
        "# Cosmic Rays and Poisson Statistics\n",
        "## AstroStats, C.R. Nugent"
      ]
    },
    {
      "cell_type": "markdown",
      "id": "d6ff58a0-d907-4480-9951-7da53983898c",
      "metadata": {
        "id": "d6ff58a0-d907-4480-9951-7da53983898c"
      },
      "source": [
        "### Introduction and Motivation"
      ]
    },
    {
      "cell_type": "markdown",
      "id": "3e22bf9b-ca08-4a25-bc55-3c9cc840ec20",
      "metadata": {
        "id": "3e22bf9b-ca08-4a25-bc55-3c9cc840ec20"
      },
      "source": [
        "A traditional introduction to Poisson involves counting cosmic rays or decays from a radioactive source. But since this is AstroStats, we’ll be doing a fun twist on this project-- we'll count cosmic rays that hit a detector on an Earth-orbiting telescope during a 7.7s exposure. While we do this, we'll learn about and practice using astronomical data!\n",
        "\n",
        "Astronomical data is often in the form of images. These images are stored in astro-specific formats, since astronomers need the data in the image, but also additional information, like when the image was taken and what telescope settings were used. Most commonly, astronomers use FITS format to store image information and this additional information, which is called the \"header\" of the image.\n",
        "\n",
        "To handle this data, astronomers have built their own Python libraries to help. Today, our goals are to\n",
        "\n",
        "1. Take a measurement of cosmic rays. We'll combine our measurements as a class, and see if they are, indeed, a Poisson distribution.\n",
        "2. Practice using Python generally\n",
        "3. Learn about astro-specific Python libraries such as Astropy and Astroquery."
      ]
    },
    {
      "cell_type": "markdown",
      "id": "d1f7d9ce-bdb9-4482-b523-ea417cf639ca",
      "metadata": {
        "id": "d1f7d9ce-bdb9-4482-b523-ea417cf639ca"
      },
      "source": [
        "### Data context and basic importing."
      ]
    },
    {
      "cell_type": "markdown",
      "id": "ba3e6d55-fc0c-43ff-a698-2297009479b2",
      "metadata": {
        "id": "ba3e6d55-fc0c-43ff-a698-2297009479b2"
      },
      "source": [
        "We are using data from NEOWISE, which was an infrared telescope that orbited Earth. There’s some confusing terminology here. Originally, the spacecraft and mission was named WISE, for Wide-field Infrared Survey Explorer. Over time, its purpose changed from surveying cold stars and luminous galaxies to discovering and studying asteroids. With this new objective came a new name, NEOWISE (Near-Earth Object WISE). Technically, the data we’ll work with is NEOWISE data. Over the course of its mission, NEOWISE made 1.45 million measurements of 44,000 asteroids and comets.\n",
        "\n",
        "As you learned from your night assignment, cosmic rays can come from anywhere in the sky, but they are deflected by the Earth’s mag- netic field. NEOWISE sees cosmic rays as tiny splotches.\n",
        "\n",
        "NEOWISE can get a cosmic ray detection anywhere in its orbit around Earth, but it gets a ton of them when it passes through the South Atlantic Anomaly (SAA, pronounced “saw”). The SAA is a place where the Van Allen radiation belt dips down, and the NEOWISE spacecraft travels right through it (Figure 2). When NEOWISE is traveling through the SAA, it’s detectors get bombarded with cosmic rays.\n",
        "\n",
        "I've pulled some frames (images) taken by NEOWISE in the SAA for you to use today. All NEOWISE data is free to use and available via Caltech/IPAC's [WISE Image Server](https://irsa.ipac.caltech.edu/applications/wise/?__action=layout.showDropDown&). Let's load them and take a look.\n",
        "\n",
        "If you get stuck, please look at the [astropy documentation](https://docs.astropy.org/en/stable/io/fits/usage/headers.html)."
      ]
    },
    {
      "cell_type": "code",
      "execution_count": null,
      "id": "54018886-099e-472a-94aa-c115ea7b9baa",
      "metadata": {
        "id": "54018886-099e-472a-94aa-c115ea7b9baa"
      },
      "outputs": [],
      "source": [
        "# First we need to import the tools to help us out\n",
        "from astropy.wcs import WCS\n",
        "from astropy.io import fits\n",
        "from astropy.visualization import ZScaleInterval\n",
        "from astropy.coordinates import SkyCoord\n",
        "import astropy.units as u\n",
        "import matplotlib.pyplot as plt\n",
        "import numpy as np\n",
        "\n",
        "# you'll want to update this with the name of the fits file you want to use\n",
        "# and where the fits file is located.\n",
        "file_path=\"your file path here\"\n",
        "hdulist = fits.open(file_path)\n",
        "hdu = hdulist[0]\n",
        "# we can look at the header\n",
        "print(hdu.header)"
      ]
    },
    {
      "cell_type": "code",
      "execution_count": null,
      "id": "49ddf7e6-f56d-4ac0-9b02-ef2030d65253",
      "metadata": {
        "id": "49ddf7e6-f56d-4ac0-9b02-ef2030d65253"
      },
      "outputs": [],
      "source": [
        "# or at specific header values\n",
        "print(hdu.header['DATE_OBS'])\n",
        "# to know what each one means, we could look at the documentation: https://wise2.ipac.caltech.edu/docs/release/allwise/\n",
        "# but things like DATE_OBS are pretty standard."
      ]
    },
    {
      "cell_type": "code",
      "execution_count": null,
      "id": "046dda89-d938-47bc-ad55-29a499cff089",
      "metadata": {
        "id": "046dda89-d938-47bc-ad55-29a499cff089"
      },
      "outputs": [],
      "source": [
        "# Now let's look at the image.\n",
        "telescope_image= hdulist[0].data\n",
        "# Compute zscale limits, this will scale the pixels so we can see the full structure of the image\n",
        "# without very bright regions washing dim features out\n",
        "interval = ZScaleInterval()\n",
        "vmin, vmax = interval.get_limits(telescope_image)\n",
        "\n",
        "plt.subplots(figsize=(15, 15))\n",
        "plt.imshow(telescope_image, cmap='gray', origin='lower', vmin=vmin, vmax=vmax)\n",
        "plt.show()"
      ]
    },
    {
      "cell_type": "markdown",
      "id": "efaf0bd2-6785-43d4-8735-187fd6f165d8",
      "metadata": {
        "id": "efaf0bd2-6785-43d4-8735-187fd6f165d8"
      },
      "source": [
        "# What are we seeing?"
      ]
    },
    {
      "cell_type": "markdown",
      "id": "148dcea1-efbb-4b60-a313-9b15457b39c7",
      "metadata": {
        "id": "148dcea1-efbb-4b60-a313-9b15457b39c7"
      },
      "source": [
        "There’s lots of bright points in this image. Broadly, bright points can be stationary sources, transients, or artifacts.\n",
        "\n",
        "**Stationary Sources**\n",
        "\n",
        "Stationary sources are things like stars, groups of stars, galaxies, and nebulas. We are going to identify those using a catalog. Specifically, we’ll use the AllWISE Source Catalog. This was made from WISE data, by adding, or stacking, many images so that all stationary sources are identified.\n",
        "\n",
        "**Transients**\n",
        "\n",
        "Transients are things that change relative to the positions of the stars. These are cosmic rays, which are not things out in space, but actual particles hitting the detector of the telescope. Other transients are asteroids, comets, artificial satellites, or moons. These are things out in space that change position relative to the stars. Lucky for us, cosmic rays have a distinctive look– they have a sharp transition from bright to dark, in other words, they don’t look fuzzy. So we’ll be able to spot the cosmic rays by how they look. Also, it’s pretty unlikely that there will be an asteroid, comet, artificial satellite, or moon in the area we look.\n",
        "\n",
        "**Artifacts**\n",
        "\n",
        "However, we'll have to watch out for artifacts. Artifacts are not real things out in space but rather consequences of the telescope and its detectors, and the way it gathers and detects light. If you stare at a bright light for too long and look away, sometimes you still see that bright light in your field of view for a second or two (don’t do this now, it’s not great for you). Telescope detectors experience a similar effect, these are called “latents.” “Diffraction spikes” happen because of light diffracting around the support structures of the telescope. More on NEOWISE artifacts can be found [here](https://wise2.ipac.caltech.edu/docs/release/allsky/expsup/sec4_4g.html) (optional reading).\n",
        "\n",
        "IPAC scientists review every single frame NEOWISE returns. Sometimes, they find odd combinations of latents. Take a couple of minutes to just [look over the pictures of example latents](https://wise2.ipac.caltech.edu/docs/release/neowise/expsup/sec3_2c.html) now (you don’t have to read the text). The big take away is that sometimes telescopes pick up unusual light patterns. Sometimes people see these and think they might be aliens. Spoiler alert: so far, it's never been aliens."
      ]
    },
    {
      "cell_type": "code",
      "execution_count": null,
      "id": "7495cf0e-bf4c-4277-a4b1-eb8c6037318e",
      "metadata": {
        "id": "7495cf0e-bf4c-4277-a4b1-eb8c6037318e"
      },
      "outputs": [],
      "source": [
        "# Now that we have some sense of what we are looking at, let's make our lives a little easier by marking the stars. We'll do this by querying the AllWISE catalog.\n",
        "# We'll need the astroquery library, you may need to run pip to install if you're using Google Colab.\n",
        "\n",
        "#!pip install astroquery\n",
        "\n",
        "from astroquery.ipac.irsa import Irsa\n",
        "import pandas as pd\n"
      ]
    },
    {
      "cell_type": "code",
      "execution_count": null,
      "id": "3c446b55-8006-4896-90af-b8b3c3bd27f5",
      "metadata": {
        "id": "3c446b55-8006-4896-90af-b8b3c3bd27f5"
      },
      "outputs": [],
      "source": [
        "# We shouldn't just ask for all the sources in the AllWISE catalog because there are 747,634,026 and it would be rude to hammer the servers.\n",
        "# Let's instead figure out what the corners are of our full image in terms of RA (Right Ascension) and Dec (Declination).\n",
        "# To do this, we'll need to covert pixels to coordinates. This coordinate transform using a \"World Coordinate System\" (WCS) or\n",
        "# coordinate-transform convention developed for astronomy. The WCS info is, helpfully, in the header of the image!\n",
        "\n",
        "# get the wcs from the header, call it w\n",
        "w = WCS(hdulist[0].header)\n",
        "\n",
        "frame_corner_1 = w.pixel_to_world(0, 0)\n",
        "frame_corner_2 = w.pixel_to_world(0, telescope_image.shape[0])\n",
        "frame_corner_3 = w.pixel_to_world(telescope_image.shape[0], telescope_image.shape[0])\n",
        "frame_corner_4 = w.pixel_to_world(telescope_image.shape[0], 0)\n",
        "print(\"Check our results:\", frame_corner_1, frame_corner_2, frame_corner_3, frame_corner_4)\n",
        "print(\"These corners are in Astropy \\\"SkyCoord\\\" format.\")"
      ]
    },
    {
      "cell_type": "code",
      "execution_count": null,
      "id": "6c4ada43-48e3-434c-b279-114656ca776b",
      "metadata": {
        "id": "6c4ada43-48e3-434c-b279-114656ca776b"
      },
      "outputs": [],
      "source": [
        "# Now we ask for three columns of data - the location (ra,dec) and brightness of sources in our region.\n",
        "print(\"Note that this query may take a minute!\")\n",
        "results_allwise = Irsa.query_region(catalog=\"allwise_p3as_psd\", spatial=\"Polygon\",\n",
        "                        polygon=[frame_corner_1,frame_corner_2,frame_corner_3,frame_corner_4], columns=\"ra,dec,w1mpro\")\n",
        "# Putting the results in pandas format to make it easier for most people to use\n",
        "neowise_sources = results_allwise.to_pandas()\n",
        "neowise_sources.describe() #Take a a look at the results. How many sources did you get?"
      ]
    },
    {
      "cell_type": "code",
      "execution_count": null,
      "id": "45b88a68-19b7-4ecb-9992-f1a927d158d6",
      "metadata": {
        "id": "45b88a68-19b7-4ecb-9992-f1a927d158d6"
      },
      "outputs": [],
      "source": [
        "# Now let's try marking the stars\n",
        "# First, we need to convert the neowise source positions into pixel positions, using the WCS header.\n",
        "pixel_coords = w.world_to_pixel_values(neowise_sources['ra'], neowise_sources['dec'])\n",
        "\n",
        "# I like putting the coords back together with the sources, so all the information is one dataframe.\n",
        "neowise_sources['x_coord']=pixel_coords[0]\n",
        "neowise_sources['y_coord']=pixel_coords[1]\n",
        "\n",
        "fig, ax = plt.subplots(figsize=(10, 10))\n",
        "im = ax.imshow(telescope_image, cmap='gray', origin='lower', vmin=vmin, vmax=vmax)\n",
        "plt.scatter(neowise_sources['x_coord'], neowise_sources['y_coord'], marker='*', color='yellow', alpha=0.2)\n",
        "plt.show()"
      ]
    },
    {
      "cell_type": "code",
      "execution_count": null,
      "id": "6c421e67-70dc-44e9-a5c4-f4ee6af1fda4",
      "metadata": {
        "id": "6c421e67-70dc-44e9-a5c4-f4ee6af1fda4"
      },
      "outputs": [],
      "source": [
        "# This is too big to do our cosmic ray counting. Let's randomly select a subset of the image for today's experiment.\n",
        "new_image_size = 150 #pixels. DO NOT CHANGE THIS-- this needs to be the same so we can compare our work with other people in the class.\n",
        "\n",
        "full_img_width=telescope_image.shape[0]\n",
        "full_img_height=telescope_image.shape[1]\n",
        "buffer = new_image_size // 2 #we will want to select a subset of the big image that is entirely within the big image\n",
        "cropped_center_x=np.random.randint(buffer,full_img_width-buffer)\n",
        "cropped_center_y=np.random.randint(buffer,full_img_height-buffer)\n",
        "print(\"Ranomly chosen center:\",cropped_center_x,cropped_center_y)\n",
        "\n",
        "x_min = cropped_center_x-buffer\n",
        "x_max = cropped_center_x+buffer\n",
        "y_min = cropped_center_y-buffer\n",
        "y_max = cropped_center_y+buffer\n",
        "print(\"lims\", x_min, x_max, y_min, y_max)\n",
        "\n",
        "fig, ax = plt.subplots(figsize=(10, 10))\n",
        "\n",
        "im = ax.imshow(telescope_image, cmap='gray', origin='lower', vmin=vmin, vmax=vmax)\n",
        "ax.scatter(neowise_sources['x_coord'], neowise_sources['y_coord'], marker='*', color='yellow', alpha=0.5)\n",
        "ax.set_xlim(x_min,x_max)\n",
        "ax.set_ylim(y_min, y_max)\n",
        "# give your figure a more descriptive name\n",
        "plt.savefig(\"myfig.png\")"
      ]
    },
    {
      "cell_type": "markdown",
      "id": "b78ad006-9784-4b46-b6e9-f58ba5f23376",
      "metadata": {
        "id": "b78ad006-9784-4b46-b6e9-f58ba5f23376"
      },
      "source": [
        "## Count the rays"
      ]
    },
    {
      "cell_type": "markdown",
      "id": "db41e7c6-e084-4068-a45a-59d7fbb2685f",
      "metadata": {
        "id": "db41e7c6-e084-4068-a45a-59d7fbb2685f"
      },
      "source": [
        "Take your saved .png figure file and move it into something like Powerpoint or Illustrator where you can draw on it. Draw circles around all the cosmic rays.\n",
        "\n",
        "\n",
        "This process of identifying the cosmic rays is not easy. Like most projects with real data, you’re going to have to make some judgement calls. You had do make judgement calls with your M&Ms, but they were fairly straightforward (“I’ll count a broken M&M as\n",
        "0.5 M&Ms.”). The trick is to be consistent. Figure out what type of thing counts, to you, as a cosmic ray, and count all the things that look like that. This is your method for counting cosmic rays."
      ]
    },
    {
      "cell_type": "markdown",
      "id": "77bc906c-d009-4d2f-84af-4f6b2927672e",
      "metadata": {
        "id": "77bc906c-d009-4d2f-84af-4f6b2927672e"
      },
      "source": [
        "## Final tasks"
      ]
    },
    {
      "cell_type": "markdown",
      "id": "ad4e3570-d050-4240-8e4b-5396ad5510f2",
      "metadata": {
        "id": "ad4e3570-d050-4240-8e4b-5396ad5510f2"
      },
      "source": [
        "To finish this exercise, please:\n",
        "1. Add your results to [this spreadsheet](https://docs.google.com/spreadsheets/d/14yLu2VGFSYF7ekMYuWg9oRSSHuaetmg0ZZkGvzVHcrU/edit?usp=sharing), so the class has a larger dataset to look at for homework.\n",
        "2. Think carefully about how you would describe your method for counting cosmic rays. How could you explain what you did to another student, so they would be counting in the same way you did? Were there any edge cases, or judgement calls? What were they, and how did you handle them?\n",
        "3. Submit your image (with the cosmic rays circled) to Canvas.\n",
        "4. Repeat the counting for other images and sections of images, if you have time. This will make the results a little nicer for your homework exercise."
      ]
    },
    {
      "cell_type": "code",
      "execution_count": null,
      "id": "f5683231-336f-445a-a53d-378e382bb97e",
      "metadata": {
        "id": "f5683231-336f-445a-a53d-378e382bb97e"
      },
      "outputs": [],
      "source": []
    }
  ],
  "metadata": {
    "kernelspec": {
      "display_name": "Python 3 (ipykernel)",
      "language": "python",
      "name": "python3"
    },
    "language_info": {
      "codemirror_mode": {
        "name": "ipython",
        "version": 3
      },
      "file_extension": ".py",
      "mimetype": "text/x-python",
      "name": "python",
      "nbconvert_exporter": "python",
      "pygments_lexer": "ipython3",
      "version": "3.11.4"
    },
    "colab": {
      "provenance": []
    }
  },
  "nbformat": 4,
  "nbformat_minor": 5
}