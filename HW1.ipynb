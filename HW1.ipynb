{
 "cells": [
  {
   "cell_type": "markdown",
   "id": "0b7f6c00",
   "metadata": {},
   "source": [
    "# Assignment 1"
   ]
  },
  {
   "cell_type": "markdown",
   "id": "4e4f14d6",
   "metadata": {},
   "source": [
    "1. From the class data, can you to determine if the M&M manufacturers make equal numbers of yellow, red, and green of M&Ms? Is there evidence for equal numbers of M&Ms? Is there evidence that one color may be added at a higher rate than others?\n",
    "\n",
    "Answer - Based on the data, it seems that the M&M manufacturers make more of the green M&Ms and about equal numbers of red and yellow M&Ms. Red and Yellow are less than 1 standard deviation of each other, this means that they are more than 68% close. Green, on the other hand, lies entirely outside of the standard deviations of both other colors. This suggests that green may be added at a higher rate than others."
   ]
  },
  {
   "cell_type": "markdown",
   "id": "bde2acbf",
   "metadata": {},
   "source": [
    "2. What are the limitations of our study? How could our experiment be improved?\n",
    "\n",
    "Answer -Our study is limited by the number of packets of M&Ms tested (~35). To be able to obtain better data, we need a larger sample size. We could also compare the consistency across different packaging factories by testing from more than one source."
   ]
  },
  {
   "cell_type": "markdown",
   "id": "a730db18",
   "metadata": {},
   "source": [
    "3. When is it appropriate to use a Poisson Distribution?\n",
    "\n",
    "Answer - It is appropriate to use a Poisson distribution-\n",
    "- when there are discrete outcomes\n",
    "- when the number of occurrences in each interval range from 0 to infinity\n",
    "- to describe the distribution of infrequent events\n",
    "- when each event is independent of the others\n",
    "- to describe discrete events over an interval of time\n",
    "- when the expected number of occurences are assumed to be constant throughout the experiment"
   ]
  },
  {
   "cell_type": "code",
   "execution_count": 1,
   "id": "398f7939",
   "metadata": {},
   "outputs": [],
   "source": [
    "from scipy.stats import poisson"
   ]
  },
  {
   "cell_type": "markdown",
   "id": "fc576832",
   "metadata": {},
   "source": [
    "4. What does the SciPy documentation use instead of λ? What does the SciPy documentation use instead of x?\n",
    "\n",
    "Answer - Scipy uses mu instead of lambda, and k instead of x."
   ]
  },
  {
   "cell_type": "code",
   "execution_count": 2,
   "id": "f276f0bf",
   "metadata": {},
   "outputs": [
    {
     "name": "stdout",
     "output_type": "stream",
     "text": [
      "Probability of more than 10 customers is 0.417\n"
     ]
    }
   ],
   "source": [
    "# 5\n",
    "print(\"Probability of more than 10 customers is %.3f\" % (1 - (poisson.cdf(10, 10))))"
   ]
  },
  {
   "cell_type": "code",
   "execution_count": 3,
   "id": "df2b7a1f",
   "metadata": {},
   "outputs": [],
   "source": [
    "n = 5.0 * 10 ** 19\n",
    "p = 3.0 * 10 ** (-20)"
   ]
  },
  {
   "cell_type": "code",
   "execution_count": 4,
   "id": "ffe3072f",
   "metadata": {},
   "outputs": [
    {
     "name": "stdout",
     "output_type": "stream",
     "text": [
      "Probability either will decay in the interval is 5.999999999999999e-20\n"
     ]
    }
   ],
   "source": [
    "# Q6. Probability that either will decay = 2 * P(decay)\n",
    "print(\"Probability either will decay in the interval is\", 2*p)"
   ]
  },
  {
   "cell_type": "code",
   "execution_count": 5,
   "id": "4460c925",
   "metadata": {},
   "outputs": [
    {
     "name": "stdout",
     "output_type": "stream",
     "text": [
      "Expected average number: 1.4999999999999998\n"
     ]
    }
   ],
   "source": [
    "# Q7\n",
    "mu = n * p\n",
    "print(\"Expected average number:\", mu)"
   ]
  },
  {
   "cell_type": "code",
   "execution_count": 6,
   "id": "86908d71",
   "metadata": {},
   "outputs": [
    {
     "name": "stdout",
     "output_type": "stream",
     "text": [
      "The probability of observing 0 decays is 0.2231\n",
      "The probability of observing 1 decays is 0.3347\n",
      "The probability of observing 2 decays is 0.2510\n",
      "The probability of observing 3 decays is 0.1255\n"
     ]
    }
   ],
   "source": [
    "# Q8\n",
    "for k in range(4):\n",
    "    probability = poisson.pmf(k, mu)\n",
    "    print(f\"The probability of observing %d decays is %.4f\" % (k, probability))"
   ]
  },
  {
   "cell_type": "code",
   "execution_count": 7,
   "id": "733e3b95",
   "metadata": {},
   "outputs": [
    {
     "name": "stdout",
     "output_type": "stream",
     "text": [
      "Probability of observing 4 or more decays is 0.0656\n"
     ]
    }
   ],
   "source": [
    "# Q9\n",
    "print(\"Probability of observing 4 or more decays is %.4f\" % (1 - poisson.cdf(3, mu)))"
   ]
  },
  {
   "cell_type": "code",
   "execution_count": 8,
   "id": "17978e40",
   "metadata": {},
   "outputs": [
    {
     "name": "stdout",
     "output_type": "stream",
     "text": [
      "Probability of no eggs laid: 0.0821\n",
      "Number of days with 2 or less eggs: 15.23\n"
     ]
    }
   ],
   "source": [
    "# Q10 & 11\n",
    "mu = 2.5\n",
    "k = 30\n",
    "print(\"Probability of no eggs laid: %.4f\" % poisson.pmf(0, 2.5))\n",
    "print(\"Number of days with 2 or less eggs: %.2f\" % (poisson.cdf(2, 2.5)*28))"
   ]
  },
  {
   "cell_type": "markdown",
   "id": "6c9eb058",
   "metadata": {},
   "source": [
    "12. Does the cosmic ray flux meet the six criteria of a  Poisson Distribution? Explain.\n",
    "\n",
    "Answer - Yes, because-\n",
    "- cosmic rays are discrete\n",
    "- they are independent of each other\n",
    "- they are not usually simultaneous\n",
    "- within the solar cycle they are more or less at a constant rate\n"
   ]
  }
 ],
 "metadata": {
  "kernelspec": {
   "display_name": "base",
   "language": "python",
   "name": "python3"
  },
  "language_info": {
   "codemirror_mode": {
    "name": "ipython",
    "version": 3
   },
   "file_extension": ".py",
   "mimetype": "text/x-python",
   "name": "python",
   "nbconvert_exporter": "python",
   "pygments_lexer": "ipython3",
   "version": "3.12.7"
  }
 },
 "nbformat": 4,
 "nbformat_minor": 5
}
